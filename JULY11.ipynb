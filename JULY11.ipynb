{
 "cells": [
  {
   "cell_type": "markdown",
   "metadata": {},
   "source": [
    "### STANDARD LIBRARIES\n",
    " -> FILE I/O  <br>\n",
    " -> REGULAR EXPRESSION J <br>\n",
    " -> DATE TIME..<br>\n",
    " -> MATH NUMERICAL AND MATHEMATICAL  <br>"
   ]
  },
  {
   "cell_type": "markdown",
   "metadata": {},
   "source": [
    "### file handleing in python\n",
    "-> file document containing information resides on the permanent storage <br>\n",
    "-> different types of files:- txt,foc,pdf,csv and etc<br>\n",
    "-> input keybord<br>\n",
    "->output file<br>\n",
    "\n",
    "### modules of the files i/o <br>\n",
    "\n",
    " -> 'w'-- this this mide is used to file writing<br>\n",
    " \n",
    "\n",
    "       -- \n",
    "\n"
   ]
  },
  {
   "cell_type": "code",
   "execution_count": 1,
   "metadata": {},
   "outputs": [
    {
     "name": "stdout",
     "output_type": "stream",
     "text": [
      "file is created and data is written\n"
     ]
    }
   ],
   "source": [
    "#function to create a file and write to the file \n",
    "\n",
    "def createfile(filename):\n",
    "   f=open(filename,'w')\n",
    "   for i in range(10):\n",
    "       f.write('this is %f line '%i)\n",
    "   print(\"file is created and data is written\")\n",
    "   return\n",
    "createfile('file.txt')"
   ]
  },
  {
   "cell_type": "code",
   "execution_count": 2,
   "metadata": {},
   "outputs": [
    {
     "name": "stdout",
     "output_type": "stream",
     "text": [
      " Volume in drive C has no label.\n",
      " Volume Serial Number is B4E9-1ED8\n",
      "\n",
      " Directory of C:\\Users\\218\n",
      "\n",
      "10-07-2019  09:34    <DIR>          .\n",
      "10-07-2019  09:34    <DIR>          ..\n",
      "21-06-2019  05:25    <DIR>          .anaconda\n",
      "14-03-2017  10:59               145 .appletviewer\n",
      "02-11-2017  15:41                 0 .cdtclient\n",
      "21-06-2019  06:25    <DIR>          .conda\n",
      "21-06-2019  05:52                43 .condarc\n",
      "17-03-2017  10:00    <DIR>          .eclipse\n",
      "10-07-2019  09:16    <DIR>          .ipynb_checkpoints\n",
      "21-06-2019  06:28    <DIR>          .ipython\n",
      "17-03-2017  10:00    <DIR>          .jmc\n",
      "24-06-2019  10:27    <DIR>          .jupyter\n",
      "29-06-2019  01:37    <DIR>          .matplotlib\n",
      "06-12-2016  11:43    <DIR>          .oracle_jre_usage\n",
      "24-06-2019  13:37             5,009 24-6-2019.ipynb\n",
      "25-06-2019  08:28             3,424 25-6-2019.ipynb\n",
      "26-06-2019  07:35             5,753 26-6-19.ipynb\n",
      "27-06-2019  07:46             3,172 27-6-19.ipynb\n",
      "28-06-2019  06:37             3,861 28-6-19.ipynb\n",
      "29-06-2019  01:39             3,868 29-06-19.ipynb\n",
      "06-12-2016  10:19    <DIR>          b401\n",
      "06-12-2016  10:22    <DIR>          b420\n",
      "30-04-2010  04:32    <DIR>          Contacts\n",
      "30-04-2010  00:35             6,357 DAY 6.ipynb\n",
      "04-07-2019  15:35    <DIR>          Desktop\n",
      "30-04-2010  04:32    <DIR>          Documents\n",
      "08-07-2019  03:26    <DIR>          Downloads\n",
      "30-04-2010  04:32    <DIR>          Favorites\n",
      "10-07-2019  09:34               220 file.txt\n",
      "27-06-2019  03:08               170 file1.txt\n",
      "10-07-2019  09:34             1,881 JULY11.ipynb\n",
      "30-04-2010  04:32    <DIR>          Links\n",
      "30-04-2010  04:32    <DIR>          Music\n",
      "30-04-2010  04:32    <DIR>          Pictures\n",
      "30-04-2010  04:32    <DIR>          Saved Games\n",
      "30-04-2010  04:32    <DIR>          Searches\n",
      "21-06-2019  06:30               555 Untitled.ipynb\n",
      "22-06-2019  03:06             1,840 Untitled1.ipynb\n",
      "22-06-2019  07:07             1,013 Untitled2.ipynb\n",
      "10-07-2019  15:08            12,928 Untitled3.ipynb\n",
      "30-04-2010  00:26               555 Untitled4.ipynb\n",
      "10-07-2019  09:08               555 Untitled5.ipynb\n",
      "30-04-2010  04:32    <DIR>          Videos\n",
      "13-11-2018  14:29    <DIR>          workspace\n",
      "              19 File(s)         51,349 bytes\n",
      "              25 Dir(s)  48,658,423,808 bytes free\n"
     ]
    }
   ],
   "source": [
    "ls\n"
   ]
  },
  {
   "cell_type": "code",
   "execution_count": 8,
   "metadata": {},
   "outputs": [
    {
     "name": "stdout",
     "output_type": "stream",
     "text": [
      "file is created and data is written\n"
     ]
    }
   ],
   "source": [
    "def createfile(filename):\n",
    "   f=open(filename,'w')\n",
    "   f.write('testing\\n')\n",
    "   print(\"file is created and data is written\")\n",
    "   return\n",
    "createfile('file.txt')"
   ]
  },
  {
   "cell_type": "code",
   "execution_count": 11,
   "metadata": {},
   "outputs": [
    {
     "name": "stdout",
     "output_type": "stream",
     "text": [
      "file is created and data is written\n"
     ]
    }
   ],
   "source": [
    "def appenddata(filename):\n",
    "    f = open(filename,'a')\n",
    "    for i in range(10):\n",
    "        f.write(\"this is %d line\\n\"%i)\n",
    "    print(\"file is created and data is written\")\n",
    "    return\n",
    "appenddata('file2.txt')"
   ]
  },
  {
   "cell_type": "code",
   "execution_count": 17,
   "metadata": {},
   "outputs": [
    {
     "name": "stdout",
     "output_type": "stream",
     "text": [
      "this is 0 Line \n",
      "this is 1 Line \n",
      "this is 2 Line \n",
      "this is 3 Line \n",
      "this is 4 Line \n",
      "this is 5 Line \n",
      "this is 6 Line \n",
      "this is 7 Line \n",
      "this is 8 Line \n",
      "this is 9 Line \n",
      "\n"
     ]
    }
   ],
   "source": [
    "#function to read the file \n",
    "def readfiledata(filename):\n",
    "    f=open(filename,'r')\n",
    "    if f.mode =='r':\n",
    "        x =f.read()\n",
    "        print(x)\n",
    "    f.close()\n",
    "    return\n",
    "readfiledata('file1.txt')   "
   ]
  },
  {
   "cell_type": "code",
   "execution_count": 26,
   "metadata": {},
   "outputs": [
    {
     "name": "stdout",
     "output_type": "stream",
     "text": [
      "enter the namefile1.txt\n",
      "enter the mode of the filer\n",
      "this is 0 Line \n",
      "this is 1 Line \n",
      "this is 2 Line \n",
      "this is 3 Line \n",
      "this is 4 Line \n",
      "this is 5 Line \n",
      "this is 6 Line \n",
      "this is 7 Line \n",
      "this is 8 Line \n",
      "this is 9 Line \n",
      "\n"
     ]
    }
   ],
   "source": [
    "#function to read file \n",
    "def fileoperations(filename,mode):\n",
    "    with open(filename,mode) as f:\n",
    "        if f.mode== 'r' :\n",
    "            data=f.read()\n",
    "            print(data)\n",
    "        elif f.mode=='a':\n",
    "            f.write('data to the file')\n",
    "            print('data successfully written')\n",
    "    f.close()\n",
    "    return\n",
    "filename= input ('enter the name')\n",
    "mode= input('enter the mode of the file')\n",
    "fileoperations(filename, mode)"
   ]
  },
  {
   "cell_type": "code",
   "execution_count": 3,
   "metadata": {},
   "outputs": [
    {
     "name": "stdout",
     "output_type": "stream",
     "text": [
      "enter the file name: file1.txt\n",
      "enter the word: this\n"
     ]
    },
    {
     "data": {
      "text/plain": [
       "10"
      ]
     },
     "execution_count": 3,
     "metadata": {},
     "output_type": "execute_result"
    }
   ],
   "source": [
    "#data analysis\n",
    "#word count program\n",
    "def wordcount(filename,word):\n",
    "    with open(filename,'r') as f:\n",
    "        if f.mode == 'r':\n",
    "           x = f.read()\n",
    "           li = x.split()\n",
    "    cnt=li.count(word)\n",
    "    return cnt\n",
    "filename=input('enter the file name: ')\n",
    "word=input('enter the word: ')\n",
    "wordcount(filename,word)"
   ]
  },
  {
   "cell_type": "code",
   "execution_count": 4,
   "metadata": {},
   "outputs": [
    {
     "name": "stdout",
     "output_type": "stream",
     "text": [
      "enter the file name: file1.txt\n"
     ]
    },
    {
     "data": {
      "text/plain": [
       "160"
      ]
     },
     "execution_count": 4,
     "metadata": {},
     "output_type": "execute_result"
    }
   ],
   "source": [
    "#charectercount of the given file\n",
    "def charcount(filename):\n",
    "    with open(filename,'r') as f:\n",
    "        if f.mode=='r' :\n",
    "            x=f.read()\n",
    "            li = list(x)\n",
    "    return len(li)\n",
    "filename=input('enter the file name: ')\n",
    "charcount(filename)"
   ]
  },
  {
   "cell_type": "code",
   "execution_count": 5,
   "metadata": {},
   "outputs": [
    {
     "name": "stdout",
     "output_type": "stream",
     "text": [
      "Enter the filename:file1.txt\n"
     ]
    },
    {
     "data": {
      "text/plain": [
       "11"
      ]
     },
     "execution_count": 5,
     "metadata": {},
     "output_type": "execute_result"
    }
   ],
   "source": [
    "#function to find the no of files in the input file\n",
    "#input -- filename(file2.txt)\n",
    "#output -- no fo lines(12)\n",
    "def countoflines(filename):\n",
    "   with open(filename,'r') as f:\n",
    "       if f.mode=='r':\n",
    "           x=f.read()\n",
    "           li=x.split(\"\\n\")\n",
    "   return len(li)\n",
    "filename=input('Enter the filename:')\n",
    "countoflines(filename)"
   ]
  },
  {
   "cell_type": "code",
   "execution_count": 13,
   "metadata": {},
   "outputs": [
    {
     "name": "stdout",
     "output_type": "stream",
     "text": [
      "enter filename:file1.txt\n"
     ]
    },
    {
     "data": {
      "text/plain": [
       "'uppercase = 10,lowercase =90'"
      ]
     },
     "execution_count": 13,
     "metadata": {},
     "output_type": "execute_result"
    }
   ],
   "source": [
    "# function to print the upper and lower case\n",
    "def casecount(filename):\n",
    "    cntlower=0\n",
    "    cntupper=0\n",
    "    with open(filename,'r') as f:\n",
    "        if f.mode =='r':\n",
    "            x = f.read()\n",
    "            li=list(x)\n",
    "    for i in li:\n",
    "        if i.isupper():\n",
    "            cntupper +=1\n",
    "        elif i.islower():\n",
    "            cntlower+=1\n",
    "    output='uppercase = {0},lowercase ={1}'.format(cntupper,cntlower)\n",
    "    return output\n",
    "filename =input('enter filename:')\n",
    "casecount(filename)"
   ]
  },
  {
   "cell_type": "code",
   "execution_count": null,
   "metadata": {},
   "outputs": [],
   "source": []
  }
 ],
 "metadata": {
  "kernelspec": {
   "display_name": "Python 3",
   "language": "python",
   "name": "python3"
  },
  "language_info": {
   "codemirror_mode": {
    "name": "ipython",
    "version": 3
   },
   "file_extension": ".py",
   "mimetype": "text/x-python",
   "name": "python",
   "nbconvert_exporter": "python",
   "pygments_lexer": "ipython3",
   "version": "3.7.3"
  }
 },
 "nbformat": 4,
 "nbformat_minor": 2
}
